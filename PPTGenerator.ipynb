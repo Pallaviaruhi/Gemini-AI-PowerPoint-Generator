{
  "nbformat": 4,
  "nbformat_minor": 0,
  "metadata": {
    "colab": {
      "provenance": []
    },
    "kernelspec": {
      "name": "python3",
      "display_name": "Python 3"
    },
    "language_info": {
      "name": "python"
    }
  },
  "cells": [
    {
      "cell_type": "code",
      "execution_count": null,
      "metadata": {
        "colab": {
          "base_uri": "https://localhost:8080/"
        },
        "id": "HwugHcSrlyek",
        "outputId": "6d47500f-20bc-4c57-a2a7-7048f66a869d"
      },
      "outputs": [
        {
          "output_type": "stream",
          "name": "stdout",
          "text": [
            "Requirement already satisfied: google-generativeai in /usr/local/lib/python3.11/dist-packages (0.8.5)\n",
            "Collecting python-pptx\n",
            "  Downloading python_pptx-1.0.2-py3-none-any.whl.metadata (2.5 kB)\n",
            "Requirement already satisfied: pillow in /usr/local/lib/python3.11/dist-packages (11.3.0)\n",
            "Requirement already satisfied: requests in /usr/local/lib/python3.11/dist-packages (2.32.3)\n",
            "Collecting python-dotenv\n",
            "  Downloading python_dotenv-1.1.1-py3-none-any.whl.metadata (24 kB)\n",
            "Requirement already satisfied: google-ai-generativelanguage==0.6.15 in /usr/local/lib/python3.11/dist-packages (from google-generativeai) (0.6.15)\n",
            "Requirement already satisfied: google-api-core in /usr/local/lib/python3.11/dist-packages (from google-generativeai) (2.25.1)\n",
            "Requirement already satisfied: google-api-python-client in /usr/local/lib/python3.11/dist-packages (from google-generativeai) (2.177.0)\n",
            "Requirement already satisfied: google-auth>=2.15.0 in /usr/local/lib/python3.11/dist-packages (from google-generativeai) (2.38.0)\n",
            "Requirement already satisfied: protobuf in /usr/local/lib/python3.11/dist-packages (from google-generativeai) (5.29.5)\n",
            "Requirement already satisfied: pydantic in /usr/local/lib/python3.11/dist-packages (from google-generativeai) (2.11.7)\n",
            "Requirement already satisfied: tqdm in /usr/local/lib/python3.11/dist-packages (from google-generativeai) (4.67.1)\n",
            "Requirement already satisfied: typing-extensions in /usr/local/lib/python3.11/dist-packages (from google-generativeai) (4.14.1)\n",
            "Requirement already satisfied: proto-plus<2.0.0dev,>=1.22.3 in /usr/local/lib/python3.11/dist-packages (from google-ai-generativelanguage==0.6.15->google-generativeai) (1.26.1)\n",
            "Collecting XlsxWriter>=0.5.7 (from python-pptx)\n",
            "  Downloading xlsxwriter-3.2.5-py3-none-any.whl.metadata (2.7 kB)\n",
            "Requirement already satisfied: lxml>=3.1.0 in /usr/local/lib/python3.11/dist-packages (from python-pptx) (5.4.0)\n",
            "Requirement already satisfied: charset-normalizer<4,>=2 in /usr/local/lib/python3.11/dist-packages (from requests) (3.4.2)\n",
            "Requirement already satisfied: idna<4,>=2.5 in /usr/local/lib/python3.11/dist-packages (from requests) (3.10)\n",
            "Requirement already satisfied: urllib3<3,>=1.21.1 in /usr/local/lib/python3.11/dist-packages (from requests) (2.5.0)\n",
            "Requirement already satisfied: certifi>=2017.4.17 in /usr/local/lib/python3.11/dist-packages (from requests) (2025.7.14)\n",
            "Requirement already satisfied: googleapis-common-protos<2.0.0,>=1.56.2 in /usr/local/lib/python3.11/dist-packages (from google-api-core->google-generativeai) (1.70.0)\n",
            "Requirement already satisfied: cachetools<6.0,>=2.0.0 in /usr/local/lib/python3.11/dist-packages (from google-auth>=2.15.0->google-generativeai) (5.5.2)\n",
            "Requirement already satisfied: pyasn1-modules>=0.2.1 in /usr/local/lib/python3.11/dist-packages (from google-auth>=2.15.0->google-generativeai) (0.4.2)\n",
            "Requirement already satisfied: rsa<5,>=3.1.4 in /usr/local/lib/python3.11/dist-packages (from google-auth>=2.15.0->google-generativeai) (4.9.1)\n",
            "Requirement already satisfied: httplib2<1.0.0,>=0.19.0 in /usr/local/lib/python3.11/dist-packages (from google-api-python-client->google-generativeai) (0.22.0)\n",
            "Requirement already satisfied: google-auth-httplib2<1.0.0,>=0.2.0 in /usr/local/lib/python3.11/dist-packages (from google-api-python-client->google-generativeai) (0.2.0)\n",
            "Requirement already satisfied: uritemplate<5,>=3.0.1 in /usr/local/lib/python3.11/dist-packages (from google-api-python-client->google-generativeai) (4.2.0)\n",
            "Requirement already satisfied: annotated-types>=0.6.0 in /usr/local/lib/python3.11/dist-packages (from pydantic->google-generativeai) (0.7.0)\n",
            "Requirement already satisfied: pydantic-core==2.33.2 in /usr/local/lib/python3.11/dist-packages (from pydantic->google-generativeai) (2.33.2)\n",
            "Requirement already satisfied: typing-inspection>=0.4.0 in /usr/local/lib/python3.11/dist-packages (from pydantic->google-generativeai) (0.4.1)\n",
            "Requirement already satisfied: grpcio<2.0.0,>=1.33.2 in /usr/local/lib/python3.11/dist-packages (from google-api-core[grpc]!=2.0.*,!=2.1.*,!=2.10.*,!=2.2.*,!=2.3.*,!=2.4.*,!=2.5.*,!=2.6.*,!=2.7.*,!=2.8.*,!=2.9.*,<3.0.0dev,>=1.34.1->google-ai-generativelanguage==0.6.15->google-generativeai) (1.73.1)\n",
            "Requirement already satisfied: grpcio-status<2.0.0,>=1.33.2 in /usr/local/lib/python3.11/dist-packages (from google-api-core[grpc]!=2.0.*,!=2.1.*,!=2.10.*,!=2.2.*,!=2.3.*,!=2.4.*,!=2.5.*,!=2.6.*,!=2.7.*,!=2.8.*,!=2.9.*,<3.0.0dev,>=1.34.1->google-ai-generativelanguage==0.6.15->google-generativeai) (1.71.2)\n",
            "Requirement already satisfied: pyparsing!=3.0.0,!=3.0.1,!=3.0.2,!=3.0.3,<4,>=2.4.2 in /usr/local/lib/python3.11/dist-packages (from httplib2<1.0.0,>=0.19.0->google-api-python-client->google-generativeai) (3.2.3)\n",
            "Requirement already satisfied: pyasn1<0.7.0,>=0.6.1 in /usr/local/lib/python3.11/dist-packages (from pyasn1-modules>=0.2.1->google-auth>=2.15.0->google-generativeai) (0.6.1)\n",
            "Downloading python_pptx-1.0.2-py3-none-any.whl (472 kB)\n",
            "\u001b[2K   \u001b[90m━━━━━━━━━━━━━━━━━━━━━━━━━━━━━━━━━━━━━━━━\u001b[0m \u001b[32m472.8/472.8 kB\u001b[0m \u001b[31m8.3 MB/s\u001b[0m eta \u001b[36m0:00:00\u001b[0m\n",
            "\u001b[?25hDownloading python_dotenv-1.1.1-py3-none-any.whl (20 kB)\n",
            "Downloading xlsxwriter-3.2.5-py3-none-any.whl (172 kB)\n",
            "\u001b[2K   \u001b[90m━━━━━━━━━━━━━━━━━━━━━━━━━━━━━━━━━━━━━━━━\u001b[0m \u001b[32m172.3/172.3 kB\u001b[0m \u001b[31m13.3 MB/s\u001b[0m eta \u001b[36m0:00:00\u001b[0m\n",
            "\u001b[?25hInstalling collected packages: XlsxWriter, python-dotenv, python-pptx\n",
            "Successfully installed XlsxWriter-3.2.5 python-dotenv-1.1.1 python-pptx-1.0.2\n"
          ]
        }
      ],
      "source": [
        "!pip install google-generativeai python-pptx pillow requests python-dotenv\n"
      ]
    },
    {
      "cell_type": "code",
      "source": [
        "import os"
      ],
      "metadata": {
        "id": "iXSaXgkynu10"
      },
      "execution_count": null,
      "outputs": []
    },
    {
      "cell_type": "code",
      "source": [
        "import google.generativeai as genai\n",
        "from pptx import Presentation\n",
        "from pptx.util import Inches, Pt\n",
        "from pptx.enum.text import PP_ALIGN\n",
        "from pptx.dml.color import RGBColor\n",
        "import requests\n",
        "from PIL import Image\n",
        "import io\n",
        "from dotenv import load_dotenv\n",
        "import json\n",
        "\n",
        "load_dotenv()"
      ],
      "metadata": {
        "colab": {
          "base_uri": "https://localhost:8080/"
        },
        "id": "4UrMzIrInxCs",
        "outputId": "a0c3201f-be77-4b5d-cbbb-ad46612998d5"
      },
      "execution_count": null,
      "outputs": [
        {
          "output_type": "execute_result",
          "data": {
            "text/plain": [
              "False"
            ]
          },
          "metadata": {},
          "execution_count": 8
        }
      ]
    },
    {
      "cell_type": "code",
      "source": [
        "class PPTGenerator:\n",
        "  def __init__(self, api_key = None):\n",
        "     self.api_key = api_key\n",
        "     if not self.api_key:\n",
        "      raise ValueError(\"Gemini API key required\")\n",
        "\n",
        "        # Configure Gemini\n",
        "     genai.configure(api_key=self.api_key)\n",
        "     self.model = genai.GenerativeModel('gemini-2.5-pro')\n",
        "     self.model_vision = genai.GenerativeModel('gemini-2.5-pro')\n",
        "\n",
        "     self.presentation = Presentation()\n",
        "\n",
        "  def generate_content_outline(self, topic, num_slides=5):\n",
        "        \"\"\"Generate content outline using Gemini\"\"\"\n",
        "        prompt = f\"\"\"\n",
        "        Create a detailed outline for a PowerPoint presentation on \"{topic}\" with {num_slides} slides.\n",
        "        Return the response as a JSON array with the following structure:\n",
        "        [\n",
        "            {{\n",
        "                \"title\": \"Slide Title\",\n",
        "                \"content\": \"Main content points as bullet points\",\n",
        "                \"slide_type\": \"title|content|image|conclusion\"\n",
        "            }}\n",
        "        ]\n",
        "\n",
        "        Make sure the content is engaging, informative, and well-structured.\n",
        "        The response must be a valid JSON array.\n",
        "        \"\"\"\n",
        "\n",
        "        try:\n",
        "            response = self.model.generate_content(prompt)\n",
        "            content = response.text.strip()\n",
        "\n",
        "\n",
        "            if \"```json\" in content:\n",
        "                content = content.split(\"```json\")[1].split(\"```\")[0].strip()\n",
        "            elif \"```\" in content:\n",
        "                content = content.split(\"```\")[1].strip()\n",
        "\n",
        "\n",
        "            if not content.startswith('[') or not content.endswith(']'):\n",
        "                # If it's not a valid JSON string, try to parse it as JSON directly\n",
        "                try:\n",
        "                    return json.loads(content)\n",
        "                except json.JSONDecodeError as e:\n",
        "                    print(e)\n",
        "                    return None\n",
        "\n",
        "            try:\n",
        "                return json.loads(content)\n",
        "            except json.JSONDecodeError as e:\n",
        "                print(e)\n",
        "                return None\n",
        "\n",
        "        except Exception as e:\n",
        "            print(e)\n",
        "            return None\n",
        "\n",
        "  def generate_image_description(self, slide_content):\n",
        "\n",
        "        prompt = f\"\"\"\n",
        "        Based on this slide content, suggest a relevant image description that would enhance the presentation:\n",
        "\n",
        "        {slide_content}\n",
        "\n",
        "        Return only a brief, descriptive phrase suitable for image search (max 5 words).\n",
        "        \"\"\"\n",
        "\n",
        "        try:\n",
        "            response = self.model.generate_content(prompt)\n",
        "            return response.text.strip()\n",
        "            return content\n",
        "        except Exception as e:\n",
        "            print(e)\n",
        "            return \"professional presentation\"\n",
        "\n",
        "  def download_image(self, query, save_path=\"temp_image.jpg\"):\n",
        "        try:\n",
        "            url = \"https://api.pexels.com/v1/search\"\n",
        "            headers = {\n",
        "                'Authorization': '' #enter pexel api\n",
        "            }\n",
        "            params = {\n",
        "                'query': query,\n",
        "                'per_page': 1,\n",
        "                'orientation': 'landscape'\n",
        "            }\n",
        "            response = requests.get(url, headers=headers, params=params)\n",
        "            response.raise_for_status()\n",
        "\n",
        "            data = response.json()\n",
        "            if not data.get('photos'):\n",
        "                raise ValueError(f\"No images found for query: {query}\")\n",
        "\n",
        "            image_url = data['photos'][0]['src']['original']\n",
        "\n",
        "\n",
        "            img_response = requests.get(image_url)\n",
        "            img_response.raise_for_status()\n",
        "\n",
        "\n",
        "            with open(save_path, 'wb') as f:\n",
        "                f.write(img_response.content)\n",
        "\n",
        "            return save_path\n",
        "\n",
        "        except Exception as e:\n",
        "            print(e)\n",
        "            return None\n",
        "\n",
        "  def create_title_slide(self, title, subtitle=\"\"):\n",
        "\n",
        "        slide_layout = self.presentation.slide_layouts[0]\n",
        "        slide = self.presentation.slides.add_slide(slide_layout)\n",
        "\n",
        "\n",
        "        title_shape = slide.shapes.title\n",
        "        title_shape.text = title\n",
        "        title_shape.text_frame.paragraphs[0].font.size = Pt(30)\n",
        "        title_shape.text_frame.paragraphs[0].font.bold = True\n",
        "        title_shape.text_frame.paragraphs[0].font.color.rgb = RGBColor(0, 0, 0)\n",
        "        title_shape.text_frame.paragraphs[0].alignment = PP_ALIGN.CENTER\n",
        "\n",
        "\n",
        "        if subtitle:\n",
        "            subtitle_shape = slide.placeholders[1]\n",
        "            subtitle_shape.text = subtitle\n",
        "            subtitle_shape.text_frame.paragraphs[0].font.size = Pt(20)\n",
        "            subtitle_shape.text_frame.paragraphs[0].font.color.rgb = RGBColor(0, 0, 0)\n",
        "            subtitle_shape.text_frame.paragraphs[0].alignment = PP_ALIGN.CENTER\n",
        "\n",
        "  def create_content_slide(self, title, content, include_image=False):\n",
        "        slide_layout = self.presentation.slide_layouts[1]\n",
        "        slide = self.presentation.slides.add_slide(slide_layout)\n",
        "\n",
        "        title_shape = slide.shapes.title\n",
        "        title_shape.text = title\n",
        "        title_shape.text_frame.paragraphs[0].font.size = Pt(30)\n",
        "        title_shape.text_frame.paragraphs[0].font.bold = True\n",
        "\n",
        "\n",
        "        content_shape = slide.placeholders[1]\n",
        "        content_shape.text = content\n",
        "\n",
        "\n",
        "        text_frame = content_shape.text_frame\n",
        "        for paragraph in text_frame.paragraphs:\n",
        "            paragraph.font.size = Pt(20)\n",
        "            paragraph.font.color.rgb = RGBColor(0, 0, 0)\n",
        "\n",
        "\n",
        "        if include_image:\n",
        "            try:\n",
        "                image_desc = self.generate_image_description(content)\n",
        "                image_path = self.download_image(image_desc)\n",
        "                if image_path and os.path.exists(image_path):\n",
        "                    slide.shapes.add_picture(image_path, Inches(6), Inches(2), height=Inches(4))\n",
        "\n",
        "                    os.remove(image_path)\n",
        "            except Exception as e:\n",
        "                print(e)\n",
        "\n",
        "        return slide\n",
        "\n",
        "  def create_image_slide(self, title, content, image_query):\n",
        "        slide_layout = self.presentation.slide_layouts[8]\n",
        "        slide = self.presentation.slides.add_slide(slide_layout)\n",
        "\n",
        "        title_box = slide.shapes.add_textbox(Inches(1), Inches(1), Inches(8), Inches(1))\n",
        "        title_frame = title_box.text_frame\n",
        "        title_frame.text = title\n",
        "        title_frame.paragraphs[0].font.size = Pt(30)\n",
        "        title_frame.paragraphs[0].font.bold = True\n",
        "        title_frame.paragraphs[0].font.color.rgb = RGBColor(0, 0, 0)\n",
        "        title_frame.paragraphs[0].alignment = PP_ALIGN.CENTER\n",
        "\n",
        "        content_box = slide.shapes.add_textbox(Inches(1), Inches(3), Inches(8), Inches(5))\n",
        "        content_frame = content_box.text_frame\n",
        "        content_frame.text = content\n",
        "\n",
        "\n",
        "        for paragraph in content_frame.paragraphs:\n",
        "            paragraph.font.size = Pt(20)\n",
        "            paragraph.font.color.rgb = RGBColor(51, 51, 51)\n",
        "\n",
        "        try:\n",
        "            image_path = self.download_image(image_query)\n",
        "            if image_path and os.path.exists(image_path):\n",
        "                slide.shapes.add_picture(image_path, Inches(6), Inches(2), height=Inches(4))\n",
        "                os.remove(image_path)\n",
        "        except Exception as e:\n",
        "            print(e)\n",
        "\n",
        "        return slide\n",
        "\n",
        "  def generate_presentation(self, topic, num_slides=5, output_file=\"generated_presentation.pptx\"):\n",
        "\n",
        "        outline = self.generate_content_outline(topic, num_slides)\n",
        "\n",
        "        for i, slide_data in enumerate(outline):\n",
        "            title = slide_data[\"title\"]\n",
        "            content = slide_data[\"content\"]\n",
        "            slide_type = slide_data[\"slide_type\"]\n",
        "\n",
        "            print(f\"Creating slide {i+1}: {title}\")\n",
        "\n",
        "            if i == 0 or slide_type == \"title\":\n",
        "                self.create_title_slide(title, \"Created by Aruhi\")\n",
        "\n",
        "            elif slide_type == \"image\":\n",
        "                img_query = self.generate_image_description(content)\n",
        "                self.create_image_slide(title, content, img_query) # Corrected variable name here\n",
        "            else:\n",
        "                include_image = (i % 3 == 0)\n",
        "                self.create_content_slide(title, content, include_image)\n",
        "\n",
        "        self.presentation.save(output_file)\n",
        "        print(f\"Presentation saved as: {output_file}\")\n",
        "\n",
        "        return output_file\n",
        "\n",
        "print(\" PPTGenerator initiliased\")"
      ],
      "metadata": {
        "colab": {
          "base_uri": "https://localhost:8080/"
        },
        "id": "ViUY_dl-oAal",
        "outputId": "c76f9505-aecc-43d8-9128-1b816080c25b"
      },
      "execution_count": 44,
      "outputs": [
        {
          "output_type": "stream",
          "name": "stdout",
          "text": [
            " PPTGenerator initiliased\n"
          ]
        }
      ]
    },
    {
      "cell_type": "code",
      "source": [
        "api_key = \"\" #enter gemini api\n"
      ],
      "metadata": {
        "id": "2k_lXxzBSX3o"
      },
      "execution_count": 45,
      "outputs": []
    },
    {
      "cell_type": "code",
      "source": [
        "try:\n",
        "  generator = PPTGenerator(api_key = api_key)\n",
        "except Exception as e:\n",
        "  print(e)"
      ],
      "metadata": {
        "id": "EuDJL4DfTNRt"
      },
      "execution_count": 46,
      "outputs": []
    },
    {
      "cell_type": "code",
      "source": [
        "topic = \"Artificial Intelligence in Healthcare\"\n",
        "num_slides = 6\n",
        "\n",
        "try:\n",
        "    output_file = generator.generate_presentation(topic, num_slides, \"ai_healthcare_presentation.pptx\")\n",
        "except Exception as e:\n",
        "    print(e)\n"
      ],
      "metadata": {
        "id": "21xHpx2bTqUc",
        "colab": {
          "base_uri": "https://localhost:8080/",
          "height": 158
        },
        "outputId": "ee657908-fa62-4a1a-f961-b2c4b163ce08"
      },
      "execution_count": 47,
      "outputs": [
        {
          "output_type": "stream",
          "name": "stdout",
          "text": [
            "Creating slide 1: Artificial Intelligence in Healthcare: Revolutionizing Patient Care\n",
            "Creating slide 2: What is AI and Why Healthcare?\n",
            "Creating slide 3: AI in Action: Key Applications\n",
            "Creating slide 4: The Promise of AI: Benefits & Advantages\n",
            "Creating slide 5: Navigating the Hurdles: Challenges & Ethics\n",
            "Creating slide 6: The Future is Intelligent: Conclusion\n",
            "Presentation saved as: ai_healthcare_presentation.pptx\n"
          ]
        }
      ]
    }
  ]
}